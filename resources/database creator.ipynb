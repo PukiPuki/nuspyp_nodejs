{
 "cells": [
  {
   "cell_type": "code",
   "execution_count": 1,
   "metadata": {
    "collapsed": true
   },
   "outputs": [],
   "source": [
    "import json\n",
    "\n",
    "#Extract only the list of modules a that have been uploaded\n",
    "file = open('files_module_list.json')\n",
    "parsed = json.load(file)\n",
    "dumps = json.dumps(parsed, indent=2, sort_keys=True)\n",
    "\n",
    "module_list = []\n",
    "for each in parsed:\n",
    "    module = each.get(\"ModuleCode\")\n",
    "    if not module in module_list:\n",
    "        module_list.append(module)"
   ]
  },
  {
   "cell_type": "code",
   "execution_count": 38,
   "metadata": {
    "collapsed": true
   },
   "outputs": [],
   "source": [
    "\n",
    "# Then create a list our of the extracted modules.\n",
    "# This is for the search bar.\n",
    "file2 = open(\"partial_modules.json\")\n",
    "parsed2 = json.load(file2)\n",
    "dumps2 = json.dumps(parsed2, indent=2, sort_keys=True)\n",
    "\n",
    "module_list2 = []\n",
    "for each in parsed2:\n",
    "    if each.get(\"ModuleCode\") in module_list:\n",
    "        holder = {\"ModuleCode\":each.get(\"ModuleCode\"), \"ModuleTitle\":each.get(\"ModuleTitle\")}\n",
    "        module_list2.append(holder)\n",
    "        \n",
    "with open('nuspyp_module_list.json', 'w') as outfile:\n",
    "    json.dump(module_list2, outfile)"
   ]
  },
  {
   "cell_type": "code",
   "execution_count": 43,
   "metadata": {
    "collapsed": true
   },
   "outputs": [],
   "source": [
    "# upload the damn json as ModuleList in Modules collection.\n",
    "from pymongo import MongoClient\n",
    "client = MongoClient()\n",
    "db = client.ReactWebpackNode\n",
    "collection = db.modules\n",
    "post_id = collection.insert_one({\"ModuleList\":module_list2}).inserted_id"
   ]
  }
 ],
 "metadata": {
  "kernelspec": {
   "display_name": "Python 3",
   "language": "python",
   "name": "python3"
  },
  "language_info": {
   "codemirror_mode": {
    "name": "ipython",
    "version": 3
   },
   "file_extension": ".py",
   "mimetype": "text/x-python",
   "name": "python",
   "nbconvert_exporter": "python",
   "pygments_lexer": "ipython3",
   "version": "3.6.1"
  }
 },
 "nbformat": 4,
 "nbformat_minor": 2
}
