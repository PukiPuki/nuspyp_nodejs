{
 "cells": [
  {
   "cell_type": "code",
   "execution_count": 1,
   "metadata": {
    "collapsed": true
   },
   "outputs": [],
   "source": [
    "import json\n",
    "\n",
    "#Extract only the list of modules a that have been uploaded\n",
    "file = open('files_module_list.json')\n",
    "parsed = json.load(file)\n",
    "dumps = json.dumps(parsed, indent=2, sort_keys=True)\n",
    "\n",
    "module_list = []\n",
    "for each in parsed:\n",
    "    module = each.get(\"ModuleCode\")\n",
    "    if not module in module_list:\n",
    "        module_list.append(module)"
   ]
  },
  {
   "cell_type": "code",
   "execution_count": 38,
   "metadata": {
    "collapsed": true
   },
   "outputs": [],
   "source": [
    "\n",
    "# Then create a list our of the extracted modules.\n",
    "# This is for the search bar.\n",
    "file2 = open(\"partial_modules.json\")\n",
    "parsed2 = json.load(file2)\n",
    "dumps2 = json.dumps(parsed2, indent=2, sort_keys=True)\n",
    "\n",
    "module_list2 = []\n",
    "for each in parsed2:\n",
    "    if each.get(\"ModuleCode\") in module_list:\n",
    "        holder = {\"ModuleCode\":each.get(\"ModuleCode\"), \"ModuleTitle\":each.get(\"ModuleTitle\")}\n",
    "        module_list2.append(holder)\n",
    "        \n",
    "with open('nuspyp_module_list.json', 'w') as outfile:\n",
    "    json.dump(module_list2, outfile)"
   ]
  },
  {
   "cell_type": "code",
   "execution_count": 43,
   "metadata": {
    "collapsed": true
   },
   "outputs": [],
   "source": [
    "# upload the damn json as ModuleList in Modules collection.\n",
    "from pymongo import MongoClient\n",
    "client = MongoClient()\n",
    "db = client.ReactWebpackNode\n",
    "collection = db.modules\n",
    "post_id = collection.insert_one({\"ModuleList\":module_list2}).inserted_id"
   ]
  },
  {
   "cell_type": "markdown",
   "metadata": {},
   "source": [
    "# import in the list of module codes and titles"
   ]
  },
  {
   "cell_type": "code",
   "execution_count": 21,
   "metadata": {},
   "outputs": [
    {
     "name": "stdout",
     "output_type": "stream",
     "text": [
      "['ACC1002', 'ACC1002X', 'ACC1006', 'ACC2002', 'ACC3601', 'ACC3603', 'ACC3604', 'ACC3613', 'ACC3614', 'AR2221', 'AR2224', 'AR2327', 'AR2723', 'BN2102', 'BN2202', 'BN2401', 'BN3301', 'BN3402', 'BN3501', 'BN4202', 'BN4402', 'BN4403', 'BN4406', 'BN5101', 'BN5104', 'BN5201', 'BN5203', 'BN5205', 'BPS5111', 'BPS5221', 'BPS5224', 'BSP1004', 'BSP1004X', 'BSP2001', 'BSP2005', 'BSP4513', 'BT1101', 'BT2101', 'BT3102', 'BT4212', 'BT4221', 'CE1109', 'CE2112', 'CE2134', 'CE2155', 'CE2183', 'CE2184', 'CE2407', 'CE3115', 'CE3116', 'CE3121', 'CE3132', 'CE3155', 'CE3165', 'CE3166', 'CE4221', 'CE4257', 'CE4258', 'CE5101', 'CE5104', 'CE5105', 'CE5106', 'CE5107', 'CE5108', 'CE5112', 'CE5113', 'CE5203', 'CE5204', 'CE5205']\n"
     ]
    }
   ],
   "source": [
    "import json\n",
    "file = open('./nuspyp_module_list.json')\n",
    "parse = json.load(file)\n",
    "#print(parse)\n",
    "module_list = []\n",
    "for each in parse:\n",
    "    if \"ModuleCode\" in each:\n",
    "        module_list.append(each.get(\"ModuleCode\"))\n",
    "\n",
    "print(module_list)"
   ]
  },
  {
   "cell_type": "code",
   "execution_count": 8,
   "metadata": {
    "collapsed": true
   },
   "outputs": [],
   "source": [
    "from pymongo import MongoClient\n",
    "import gridfs\n",
    "\n",
    "client = MongoClient()\n",
    "db = client.ReactWebpackNode\n",
    "fs = gridfs.GridFS(db)"
   ]
  },
  {
   "cell_type": "code",
   "execution_count": 15,
   "metadata": {},
   "outputs": [],
   "source": [
    "files_list = list(db.fs.files.find({}))"
   ]
  },
  {
   "cell_type": "code",
   "execution_count": 41,
   "metadata": {
    "collapsed": true
   },
   "outputs": [],
   "source": [
    "YearsAndSemesters = []\n",
    "for each in module_list:\n",
    "    YearsAndSemesters.append({\"ModuleCode\": each, \"Papers\":[]})"
   ]
  },
  {
   "cell_type": "code",
   "execution_count": 42,
   "metadata": {
    "collapsed": true
   },
   "outputs": [],
   "source": [
    "def extract_year_and_sem(page):\n",
    "    year = page.get(\"Year\")\n",
    "    sem = page.get(\"Sem\")\n",
    "    hold = {\"Year\":year, \"Sem\":sem }\n",
    "    return hold"
   ]
  },
  {
   "cell_type": "code",
   "execution_count": 43,
   "metadata": {},
   "outputs": [],
   "source": [
    "for each in files_list:\n",
    "    ModuleCode = each.get(\"ModuleCode\")\n",
    "    Paper = extract_year_and_sem(each)\n",
    "    for each1 in YearsAndSemesters:\n",
    "        ModuleCode1 = each1.get(\"ModuleCode\")\n",
    "        Papers1 = each1.get(\"Papers\")\n",
    "        if ModuleCode == ModuleCode1 and not Paper in Papers1:\n",
    "            Papers1.append(Paper)"
   ]
  },
  {
   "cell_type": "code",
   "execution_count": 44,
   "metadata": {},
   "outputs": [
    {
     "data": {
      "text/plain": [
       "[{'ModuleCode': 'ACC1002',\n",
       "  'Papers': [{'Sem': '1', 'Year': '1213'},\n",
       "   {'Sem': '1', 'Year': '1314'},\n",
       "   {'Sem': '1', 'Year': '1415'}]},\n",
       " {'ModuleCode': 'ACC1002X', 'Papers': [{'Sem': '2', 'Year': '1011'}]},\n",
       " {'ModuleCode': 'ACC1006',\n",
       "  'Papers': [{'Sem': '1', 'Year': '0910'},\n",
       "   {'Sem': '2', 'Year': '0910'},\n",
       "   {'Sem': '1', 'Year': '1011'},\n",
       "   {'Sem': '2', 'Year': '1011'},\n",
       "   {'Sem': '1', 'Year': '1112'},\n",
       "   {'Sem': '2', 'Year': '1112'},\n",
       "   {'Sem': '2', 'Year': '1213'}]},\n",
       " {'ModuleCode': 'ACC2002',\n",
       "  'Papers': [{'Sem': '2', 'Year': '0910'}, {'Sem': '1', 'Year': '1112'}]},\n",
       " {'ModuleCode': 'ACC3601',\n",
       "  'Papers': [{'Sem': '1', 'Year': '0910'},\n",
       "   {'Sem': '2', 'Year': '0910'},\n",
       "   {'Sem': '2', 'Year': '1112'},\n",
       "   {'Sem': '1', 'Year': '1516'}]},\n",
       " {'ModuleCode': 'ACC3603',\n",
       "  'Papers': [{'Sem': '1', 'Year': '0910'},\n",
       "   {'Sem': '2', 'Year': '0910'},\n",
       "   {'Sem': '1', 'Year': '1011'},\n",
       "   {'Sem': '2', 'Year': '1011'},\n",
       "   {'Sem': '1', 'Year': '1112'},\n",
       "   {'Sem': '2', 'Year': '1112'},\n",
       "   {'Sem': '2', 'Year': '1213'},\n",
       "   {'Sem': '1', 'Year': '1314'},\n",
       "   {'Sem': '2', 'Year': '1314'}]},\n",
       " {'ModuleCode': 'ACC3604',\n",
       "  'Papers': [{'Sem': '1', 'Year': '0910'},\n",
       "   {'Sem': '1', 'Year': '1011'},\n",
       "   {'Sem': '2', 'Year': '1314'}]},\n",
       " {'ModuleCode': 'ACC3613',\n",
       "  'Papers': [{'Sem': '1', 'Year': '1314'},\n",
       "   {'Sem': '2', 'Year': '1314'},\n",
       "   {'Sem': '1', 'Year': '1617'}]},\n",
       " {'ModuleCode': 'ACC3614',\n",
       "  'Papers': [{'Sem': '1', 'Year': '0910'},\n",
       "   {'Sem': '1', 'Year': '1011'},\n",
       "   {'Sem': '1', 'Year': '1112'},\n",
       "   {'Sem': '2', 'Year': '1213'},\n",
       "   {'Sem': '2', 'Year': '1314'},\n",
       "   {'Sem': '2', 'Year': '1415'}]},\n",
       " {'ModuleCode': 'AR2221',\n",
       "  'Papers': [{'Sem': '1', 'Year': '0910'},\n",
       "   {'Sem': '1', 'Year': '1011'},\n",
       "   {'Sem': '1', 'Year': '1112'},\n",
       "   {'Sem': '1', 'Year': '1213'},\n",
       "   {'Sem': '1', 'Year': '1314'},\n",
       "   {'Sem': '1', 'Year': '1415'},\n",
       "   {'Sem': '1', 'Year': '1516'},\n",
       "   {'Sem': '1', 'Year': '1617'}]},\n",
       " {'ModuleCode': 'AR2224', 'Papers': [{'Sem': '1', 'Year': '1213'}]},\n",
       " {'ModuleCode': 'AR2327', 'Papers': [{'Sem': '2', 'Year': '1314'}]},\n",
       " {'ModuleCode': 'AR2723',\n",
       "  'Papers': [{'Sem': '1', 'Year': '1011'},\n",
       "   {'Sem': '1', 'Year': '1112'},\n",
       "   {'Sem': '1', 'Year': '1213'},\n",
       "   {'Sem': '2', 'Year': '1314'},\n",
       "   {'Sem': '2', 'Year': '1516'},\n",
       "   {'Sem': '1', 'Year': '1617'},\n",
       "   {'Sem': '2', 'Year': '1415'}]},\n",
       " {'ModuleCode': 'BN2102', 'Papers': [{'Sem': '1', 'Year': '1516'}]},\n",
       " {'ModuleCode': 'BN2202',\n",
       "  'Papers': [{'Sem': '1', 'Year': '1213'},\n",
       "   {'Sem': '1', 'Year': '1516'},\n",
       "   {'Sem': '1', 'Year': '1617'}]},\n",
       " {'ModuleCode': 'BN2401', 'Papers': [{'Sem': '1', 'Year': '1213'}]},\n",
       " {'ModuleCode': 'BN3301', 'Papers': [{'Sem': '1', 'Year': '1213'}]},\n",
       " {'ModuleCode': 'BN3402', 'Papers': [{'Sem': '1', 'Year': '1213'}]},\n",
       " {'ModuleCode': 'BN3501', 'Papers': [{'Sem': '1', 'Year': '0910'}]},\n",
       " {'ModuleCode': 'BN4202',\n",
       "  'Papers': [{'Sem': '2', 'Year': '0910'}, {'Sem': '2', 'Year': '1011'}]},\n",
       " {'ModuleCode': 'BN4402',\n",
       "  'Papers': [{'Sem': '2', 'Year': '0910'},\n",
       "   {'Sem': '2', 'Year': '1011'},\n",
       "   {'Sem': '2', 'Year': '1213'},\n",
       "   {'Sem': '2', 'Year': '1314'},\n",
       "   {'Sem': '2', 'Year': '1415'},\n",
       "   {'Sem': '2', 'Year': '1516'}]},\n",
       " {'ModuleCode': 'BN4403',\n",
       "  'Papers': [{'Sem': '1', 'Year': '0910'},\n",
       "   {'Sem': '1', 'Year': '1213'},\n",
       "   {'Sem': '1', 'Year': '1415'},\n",
       "   {'Sem': '1', 'Year': '1516'}]},\n",
       " {'ModuleCode': 'BN4406', 'Papers': [{'Sem': '1', 'Year': '1213'}]},\n",
       " {'ModuleCode': 'BN5101',\n",
       "  'Papers': [{'Sem': '1', 'Year': '0910'}, {'Sem': '1', 'Year': '1011'}]},\n",
       " {'ModuleCode': 'BN5104', 'Papers': [{'Sem': '1', 'Year': '1213'}]},\n",
       " {'ModuleCode': 'BN5201',\n",
       "  'Papers': [{'Sem': '2', 'Year': '1314'}, {'Sem': '2', 'Year': '1415'}]},\n",
       " {'ModuleCode': 'BN5203',\n",
       "  'Papers': [{'Sem': '2', 'Year': '1011'},\n",
       "   {'Sem': '2', 'Year': '1213'},\n",
       "   {'Sem': '2', 'Year': '1415'},\n",
       "   {'Sem': '2', 'Year': '1516'}]},\n",
       " {'ModuleCode': 'BN5205', 'Papers': [{'Sem': '1', 'Year': '1213'}]},\n",
       " {'ModuleCode': 'BPS5111', 'Papers': [{'Sem': '1', 'Year': '1617'}]},\n",
       " {'ModuleCode': 'BPS5221', 'Papers': [{'Sem': '1', 'Year': '1617'}]},\n",
       " {'ModuleCode': 'BPS5224', 'Papers': [{'Sem': '1', 'Year': '1617'}]},\n",
       " {'ModuleCode': 'BSP1004',\n",
       "  'Papers': [{'Sem': '1', 'Year': '0910'},\n",
       "   {'Sem': '2', 'Year': '0910'},\n",
       "   {'Sem': '1', 'Year': '1011'},\n",
       "   {'Sem': '2', 'Year': '1011'},\n",
       "   {'Sem': '1', 'Year': '1112'},\n",
       "   {'Sem': '1', 'Year': '1213'},\n",
       "   {'Sem': '2', 'Year': '1213'},\n",
       "   {'Sem': '1', 'Year': '1314'},\n",
       "   {'Sem': '2', 'Year': '1314'},\n",
       "   {'Sem': '1', 'Year': '1415'},\n",
       "   {'Sem': '2', 'Year': '1415'},\n",
       "   {'Sem': '1', 'Year': '1516'},\n",
       "   {'Sem': '1', 'Year': '1617'}]},\n",
       " {'ModuleCode': 'BSP1004X',\n",
       "  'Papers': [{'Sem': '1', 'Year': '1112'},\n",
       "   {'Sem': '1', 'Year': '1213'},\n",
       "   {'Sem': '2', 'Year': '1213'},\n",
       "   {'Sem': '1', 'Year': '1314'},\n",
       "   {'Sem': '1', 'Year': '1415'}]},\n",
       " {'ModuleCode': 'BSP2001',\n",
       "  'Papers': [{'Sem': '1', 'Year': '0910'}, {'Sem': '2', 'Year': '0910'}]},\n",
       " {'ModuleCode': 'BSP2005', 'Papers': [{'Sem': '2', 'Year': '0910'}]},\n",
       " {'ModuleCode': 'BSP4513', 'Papers': [{'Sem': '1', 'Year': '0910'}]},\n",
       " {'ModuleCode': 'BT1101',\n",
       "  'Papers': [{'Sem': '1', 'Year': '1314'},\n",
       "   {'Sem': '1', 'Year': '1415'},\n",
       "   {'Sem': '1', 'Year': '1516'},\n",
       "   {'Sem': '1', 'Year': '1617'}]},\n",
       " {'ModuleCode': 'BT2101',\n",
       "  'Papers': [{'Sem': '1', 'Year': '1415'},\n",
       "   {'Sem': '1', 'Year': '1516'},\n",
       "   {'Sem': '1', 'Year': '1617'}]},\n",
       " {'ModuleCode': 'BT3102',\n",
       "  'Papers': [{'Sem': '1', 'Year': '1516'}, {'Sem': '1', 'Year': '1617'}]},\n",
       " {'ModuleCode': 'BT4212', 'Papers': [{'Sem': '1', 'Year': '1617'}]},\n",
       " {'ModuleCode': 'BT4221', 'Papers': [{'Sem': '1', 'Year': '1617'}]},\n",
       " {'ModuleCode': 'CE1109',\n",
       "  'Papers': [{'Sem': '1', 'Year': '1516'}, {'Sem': '1', 'Year': '1617'}]},\n",
       " {'ModuleCode': 'CE2112',\n",
       "  'Papers': [{'Sem': '2', 'Year': '0910'},\n",
       "   {'Sem': '2', 'Year': '1011'},\n",
       "   {'Sem': '2', 'Year': '1112'},\n",
       "   {'Sem': '2', 'Year': '1213'},\n",
       "   {'Sem': '2', 'Year': '1314'},\n",
       "   {'Sem': '2', 'Year': '1415'},\n",
       "   {'Sem': '1', 'Year': '1516'},\n",
       "   {'Sem': '1', 'Year': '1617'}]},\n",
       " {'ModuleCode': 'CE2134',\n",
       "  'Papers': [{'Sem': '1', 'Year': '0910'},\n",
       "   {'Sem': '1', 'Year': '1011'},\n",
       "   {'Sem': '1', 'Year': '1112'},\n",
       "   {'Sem': '1', 'Year': '1213'},\n",
       "   {'Sem': '1', 'Year': '1314'},\n",
       "   {'Sem': '1', 'Year': '1415'},\n",
       "   {'Sem': '2', 'Year': '1415'},\n",
       "   {'Sem': '1', 'Year': '1516'},\n",
       "   {'Sem': '1', 'Year': '1617'}]},\n",
       " {'ModuleCode': 'CE2155',\n",
       "  'Papers': [{'Sem': '1', 'Year': '0910'},\n",
       "   {'Sem': '1', 'Year': '1011'},\n",
       "   {'Sem': '1', 'Year': '1112'},\n",
       "   {'Sem': '1', 'Year': '1213'},\n",
       "   {'Sem': '1', 'Year': '1314'},\n",
       "   {'Sem': '1', 'Year': '1415'},\n",
       "   {'Sem': '2', 'Year': '1415'},\n",
       "   {'Sem': '1', 'Year': '1516'},\n",
       "   {'Sem': '1', 'Year': '1617'}]},\n",
       " {'ModuleCode': 'CE2183',\n",
       "  'Papers': [{'Sem': '2', 'Year': '0910'},\n",
       "   {'Sem': '2', 'Year': '1011'},\n",
       "   {'Sem': '2', 'Year': '1112'},\n",
       "   {'Sem': '2', 'Year': '1213'},\n",
       "   {'Sem': '2', 'Year': '1314'},\n",
       "   {'Sem': '2', 'Year': '1415'},\n",
       "   {'Sem': '1', 'Year': '1516'}]},\n",
       " {'ModuleCode': 'CE2184',\n",
       "  'Papers': [{'Sem': '1', 'Year': '0910'},\n",
       "   {'Sem': '1', 'Year': '1011'},\n",
       "   {'Sem': '1', 'Year': '1112'},\n",
       "   {'Sem': '1', 'Year': '1213'},\n",
       "   {'Sem': '1', 'Year': '1314'},\n",
       "   {'Sem': '1', 'Year': '1415'},\n",
       "   {'Sem': '1', 'Year': '1516'},\n",
       "   {'Sem': '1', 'Year': '1617'}]},\n",
       " {'ModuleCode': 'CE2407',\n",
       "  'Papers': [{'Sem': '1', 'Year': '0910'},\n",
       "   {'Sem': '1', 'Year': '1112'},\n",
       "   {'Sem': '1', 'Year': '1213'},\n",
       "   {'Sem': '1', 'Year': '1314'},\n",
       "   {'Sem': '1', 'Year': '1415'},\n",
       "   {'Sem': '1', 'Year': '1516'},\n",
       "   {'Sem': '1', 'Year': '1617'}]},\n",
       " {'ModuleCode': 'CE3115',\n",
       "  'Papers': [{'Sem': '1', 'Year': '0910'},\n",
       "   {'Sem': '2', 'Year': '1011'},\n",
       "   {'Sem': '1', 'Year': '1112'},\n",
       "   {'Sem': '1', 'Year': '1213'},\n",
       "   {'Sem': '1', 'Year': '1314'},\n",
       "   {'Sem': '1', 'Year': '1415'},\n",
       "   {'Sem': '1', 'Year': '1516'},\n",
       "   {'Sem': '2', 'Year': '1516'}]},\n",
       " {'ModuleCode': 'CE3116',\n",
       "  'Papers': [{'Sem': '2', 'Year': '0910'},\n",
       "   {'Sem': '1', 'Year': '1011'},\n",
       "   {'Sem': '2', 'Year': '1112'},\n",
       "   {'Sem': '2', 'Year': '1213'},\n",
       "   {'Sem': '2', 'Year': '1314'},\n",
       "   {'Sem': '2', 'Year': '1415'},\n",
       "   {'Sem': '1', 'Year': '1617'}]},\n",
       " {'ModuleCode': 'CE3121',\n",
       "  'Papers': [{'Sem': '1', 'Year': '0910'},\n",
       "   {'Sem': '1', 'Year': '1011'},\n",
       "   {'Sem': '1', 'Year': '1112'},\n",
       "   {'Sem': '1', 'Year': '1213'},\n",
       "   {'Sem': '1', 'Year': '1314'},\n",
       "   {'Sem': '1', 'Year': '1415'},\n",
       "   {'Sem': '1', 'Year': '1516'},\n",
       "   {'Sem': '1', 'Year': '1617'}]},\n",
       " {'ModuleCode': 'CE3132',\n",
       "  'Papers': [{'Sem': '2', 'Year': '0910'},\n",
       "   {'Sem': '2', 'Year': '1011'},\n",
       "   {'Sem': '2', 'Year': '1112'},\n",
       "   {'Sem': '2', 'Year': '1213'},\n",
       "   {'Sem': '2', 'Year': '1314'},\n",
       "   {'Sem': '2', 'Year': '1415'},\n",
       "   {'Sem': '2', 'Year': '1516'}]},\n",
       " {'ModuleCode': 'CE3155',\n",
       "  'Papers': [{'Sem': '2', 'Year': '0910'},\n",
       "   {'Sem': '2', 'Year': '1011'},\n",
       "   {'Sem': '2', 'Year': '1112'},\n",
       "   {'Sem': '2', 'Year': '1213'},\n",
       "   {'Sem': '2', 'Year': '1314'},\n",
       "   {'Sem': '1', 'Year': '1415'},\n",
       "   {'Sem': '1', 'Year': '1516'},\n",
       "   {'Sem': '2', 'Year': '1516'}]},\n",
       " {'ModuleCode': 'CE3165',\n",
       "  'Papers': [{'Sem': '2', 'Year': '0910'},\n",
       "   {'Sem': '2', 'Year': '1011'},\n",
       "   {'Sem': '2', 'Year': '1112'},\n",
       "   {'Sem': '2', 'Year': '1213'},\n",
       "   {'Sem': '2', 'Year': '1314'},\n",
       "   {'Sem': '2', 'Year': '1415'},\n",
       "   {'Sem': '1', 'Year': '1617'}]},\n",
       " {'ModuleCode': 'CE3166',\n",
       "  'Papers': [{'Sem': '1', 'Year': '0910'},\n",
       "   {'Sem': '1', 'Year': '1011'},\n",
       "   {'Sem': '1', 'Year': '1112'},\n",
       "   {'Sem': '1', 'Year': '1213'},\n",
       "   {'Sem': '1', 'Year': '1314'},\n",
       "   {'Sem': '2', 'Year': '1415'},\n",
       "   {'Sem': '1', 'Year': '1617'}]},\n",
       " {'ModuleCode': 'CE4221',\n",
       "  'Papers': [{'Sem': '2', 'Year': '1314'}, {'Sem': '2', 'Year': '1516'}]},\n",
       " {'ModuleCode': 'CE4257',\n",
       "  'Papers': [{'Sem': '1', 'Year': '0910'},\n",
       "   {'Sem': '1', 'Year': '1011'},\n",
       "   {'Sem': '1', 'Year': '1112'},\n",
       "   {'Sem': '1', 'Year': '1213'},\n",
       "   {'Sem': '1', 'Year': '1314'},\n",
       "   {'Sem': '1', 'Year': '1415'},\n",
       "   {'Sem': '1', 'Year': '1516'},\n",
       "   {'Sem': '1', 'Year': '1617'}]},\n",
       " {'ModuleCode': 'CE4258',\n",
       "  'Papers': [{'Sem': '2', 'Year': '0910'},\n",
       "   {'Sem': '2', 'Year': '1011'},\n",
       "   {'Sem': '2', 'Year': '1112'},\n",
       "   {'Sem': '2', 'Year': '1213'},\n",
       "   {'Sem': '2', 'Year': '1314'},\n",
       "   {'Sem': '2', 'Year': '1415'},\n",
       "   {'Sem': '2', 'Year': '1516'}]},\n",
       " {'ModuleCode': 'CE5101',\n",
       "  'Papers': [{'Sem': '1', 'Year': '0910'},\n",
       "   {'Sem': '1', 'Year': '1011'},\n",
       "   {'Sem': '1', 'Year': '1112'},\n",
       "   {'Sem': '1', 'Year': '1213'},\n",
       "   {'Sem': '1', 'Year': '1314'},\n",
       "   {'Sem': '1', 'Year': '1415'},\n",
       "   {'Sem': '1', 'Year': '1516'},\n",
       "   {'Sem': '1', 'Year': '1617'}]},\n",
       " {'ModuleCode': 'CE5104',\n",
       "  'Papers': [{'Sem': '1', 'Year': '0910'},\n",
       "   {'Sem': '1', 'Year': '1011'},\n",
       "   {'Sem': '1', 'Year': '1112'},\n",
       "   {'Sem': '1', 'Year': '1213'},\n",
       "   {'Sem': '1', 'Year': '1314'},\n",
       "   {'Sem': '1', 'Year': '1415'},\n",
       "   {'Sem': '1', 'Year': '1516'},\n",
       "   {'Sem': '1', 'Year': '1617'}]},\n",
       " {'ModuleCode': 'CE5105',\n",
       "  'Papers': [{'Sem': '1', 'Year': '0910'},\n",
       "   {'Sem': '1', 'Year': '1011'},\n",
       "   {'Sem': '2', 'Year': '1112'},\n",
       "   {'Sem': '2', 'Year': '1213'},\n",
       "   {'Sem': '2', 'Year': '1314'},\n",
       "   {'Sem': '2', 'Year': '1415'},\n",
       "   {'Sem': '2', 'Year': '1516'}]},\n",
       " {'ModuleCode': 'CE5106',\n",
       "  'Papers': [{'Sem': '2', 'Year': '0910'},\n",
       "   {'Sem': '2', 'Year': '1011'},\n",
       "   {'Sem': '2', 'Year': '1112'},\n",
       "   {'Sem': '2', 'Year': '1213'},\n",
       "   {'Sem': '2', 'Year': '1314'},\n",
       "   {'Sem': '2', 'Year': '1415'},\n",
       "   {'Sem': '2', 'Year': '1516'}]},\n",
       " {'ModuleCode': 'CE5107',\n",
       "  'Papers': [{'Sem': '2', 'Year': '0910'},\n",
       "   {'Sem': '2', 'Year': '1011'},\n",
       "   {'Sem': '2', 'Year': '1112'},\n",
       "   {'Sem': '2', 'Year': '1213'},\n",
       "   {'Sem': '2', 'Year': '1314'},\n",
       "   {'Sem': '2', 'Year': '1415'},\n",
       "   {'Sem': '2', 'Year': '1516'}]},\n",
       " {'ModuleCode': 'CE5108',\n",
       "  'Papers': [{'Sem': '1', 'Year': '0910'},\n",
       "   {'Sem': '1', 'Year': '1011'},\n",
       "   {'Sem': '1', 'Year': '1112'},\n",
       "   {'Sem': '1', 'Year': '1213'},\n",
       "   {'Sem': '1', 'Year': '1314'},\n",
       "   {'Sem': '1', 'Year': '1415'},\n",
       "   {'Sem': '1', 'Year': '1516'},\n",
       "   {'Sem': '1', 'Year': '1617'}]},\n",
       " {'ModuleCode': 'CE5112',\n",
       "  'Papers': [{'Sem': '2', 'Year': '0910'},\n",
       "   {'Sem': '2', 'Year': '1011'},\n",
       "   {'Sem': '2', 'Year': '1112'},\n",
       "   {'Sem': '2', 'Year': '1213'},\n",
       "   {'Sem': '2', 'Year': '1314'},\n",
       "   {'Sem': '2', 'Year': '1415'},\n",
       "   {'Sem': '2', 'Year': '1516'}]},\n",
       " {'ModuleCode': 'CE5113',\n",
       "  'Papers': [{'Sem': '1', 'Year': '0910'},\n",
       "   {'Sem': '1', 'Year': '1011'},\n",
       "   {'Sem': '1', 'Year': '1112'},\n",
       "   {'Sem': '1', 'Year': '1213'},\n",
       "   {'Sem': '1', 'Year': '1314'},\n",
       "   {'Sem': '1', 'Year': '1415'},\n",
       "   {'Sem': '1', 'Year': '1516'},\n",
       "   {'Sem': '1', 'Year': '1617'}]},\n",
       " {'ModuleCode': 'CE5203',\n",
       "  'Papers': [{'Sem': '1', 'Year': '0910'},\n",
       "   {'Sem': '1', 'Year': '1011'},\n",
       "   {'Sem': '1', 'Year': '1112'},\n",
       "   {'Sem': '1', 'Year': '1213'},\n",
       "   {'Sem': '1', 'Year': '1314'},\n",
       "   {'Sem': '1', 'Year': '1415'},\n",
       "   {'Sem': '1', 'Year': '1516'},\n",
       "   {'Sem': '1', 'Year': '1617'}]},\n",
       " {'ModuleCode': 'CE5204',\n",
       "  'Papers': [{'Sem': '2', 'Year': '1011'},\n",
       "   {'Sem': '2', 'Year': '1112'},\n",
       "   {'Sem': '2', 'Year': '1213'},\n",
       "   {'Sem': '2', 'Year': '1415'},\n",
       "   {'Sem': '2', 'Year': '1516'}]},\n",
       " {'ModuleCode': 'CE5205',\n",
       "  'Papers': [{'Sem': '1', 'Year': '0910'},\n",
       "   {'Sem': '1', 'Year': '1011'},\n",
       "   {'Sem': '1', 'Year': '1112'},\n",
       "   {'Sem': '1', 'Year': '1213'},\n",
       "   {'Sem': '1', 'Year': '1314'},\n",
       "   {'Sem': '1', 'Year': '1415'},\n",
       "   {'Sem': '1', 'Year': '1516'},\n",
       "   {'Sem': '1', 'Year': '1617'}]}]"
      ]
     },
     "execution_count": 44,
     "metadata": {},
     "output_type": "execute_result"
    }
   ],
   "source": [
    "YearsAndSemesters"
   ]
  },
  {
   "cell_type": "code",
   "execution_count": 45,
   "metadata": {
    "collapsed": true
   },
   "outputs": [],
   "source": [
    "from pymongo import MongoClient\n",
    "import gridfs\n",
    "\n",
    "client = MongoClient()\n",
    "collection = client.modules.papers\n",
    "collection.insert_many(YearsAndSemesters)"
   ]
  },
  {
   "cell_type": "code",
   "execution_count": 48,
   "metadata": {},
   "outputs": [
    {
     "data": {
      "text/plain": [
       "<pymongo.results.InsertManyResult at 0x7f85a8114090>"
      ]
     },
     "execution_count": 48,
     "metadata": {},
     "output_type": "execute_result"
    }
   ],
   "source": [
    "list(collection.find({\"ModuleCode\": \"ACC1002\"}))"
   ]
  },
  {
   "cell_type": "code",
   "execution_count": 51,
   "metadata": {},
   "outputs": [
    {
     "data": {
      "text/plain": [
       "[{'ModuleCode': 'ACC1002',\n",
       "  'Papers': [{'Sem': '1', 'Year': '1213'},\n",
       "   {'Sem': '1', 'Year': '1314'},\n",
       "   {'Sem': '1', 'Year': '1415'}],\n",
       "  '_id': ObjectId('596f1b41eff7d52eb855020c')}]"
      ]
     },
     "execution_count": 51,
     "metadata": {},
     "output_type": "execute_result"
    }
   ],
   "source": []
  },
  {
   "cell_type": "code",
   "execution_count": null,
   "metadata": {
    "collapsed": true
   },
   "outputs": [],
   "source": []
  },
  {
   "cell_type": "code",
   "execution_count": null,
   "metadata": {
    "collapsed": true
   },
   "outputs": [],
   "source": []
  },
  {
   "cell_type": "code",
   "execution_count": null,
   "metadata": {
    "collapsed": true
   },
   "outputs": [],
   "source": []
  },
  {
   "cell_type": "code",
   "execution_count": null,
   "metadata": {
    "collapsed": true
   },
   "outputs": [],
   "source": []
  },
  {
   "cell_type": "code",
   "execution_count": null,
   "metadata": {
    "collapsed": true
   },
   "outputs": [],
   "source": []
  },
  {
   "cell_type": "code",
   "execution_count": null,
   "metadata": {
    "collapsed": true
   },
   "outputs": [],
   "source": []
  },
  {
   "cell_type": "code",
   "execution_count": null,
   "metadata": {
    "collapsed": true
   },
   "outputs": [],
   "source": []
  }
 ],
 "metadata": {
  "kernelspec": {
   "display_name": "Python 3",
   "language": "python",
   "name": "python3"
  },
  "language_info": {
   "codemirror_mode": {
    "name": "ipython",
    "version": 3
   },
   "file_extension": ".py",
   "mimetype": "text/x-python",
   "name": "python",
   "nbconvert_exporter": "python",
   "pygments_lexer": "ipython3",
   "version": "3.6.1"
  }
 },
 "nbformat": 4,
 "nbformat_minor": 2
}
